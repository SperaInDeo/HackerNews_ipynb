{
 "cells": [
  {
   "attachments": {},
   "cell_type": "markdown",
   "metadata": {},
   "source": [
    "# Exploring Hacker News Posts\n",
    "![Alt text](../JupyterProject2/hacker_news.jpg)\n",
    "\n",
    "*Practice Project by: Dustin Mook*\n",
    "\n",
    "---\n",
    "## Skills covered\n",
    "* GitHub\n",
    "* Jupyter Notebook\n",
    "* Data Engineering\n",
    "* Object Oriented Programming\n",
    "* datetime module\n",
    "* csv module\n",
    "\n",
    "[The raw data csv for this project may be found here](HN_posts_year_to_Sep_26_2016.csv)"
   ]
  },
  {
   "attachments": {},
   "cell_type": "markdown",
   "metadata": {},
   "source": [
    "---\n",
    "# Objectives\n",
    "1. Do Ask HN or Show HN posts receive more comments on average?\n",
    "2. Do posts created at a certain time receive more comments on average?"
   ]
  },
  {
   "cell_type": "code",
   "execution_count": 38,
   "metadata": {},
   "outputs": [],
   "source": [
    "#import packages and setup\n",
    "from csv import reader\n",
    "from datetime import datetime as dt\n",
    "\n",
    "original_csv = 'HN_posts_year_to_Sep_26_2016.csv'"
   ]
  },
  {
   "cell_type": "code",
   "execution_count": 33,
   "metadata": {},
   "outputs": [
    {
     "data": {
      "text/plain": [
       "['id', 'title', 'url', 'num_points', 'num_comments', 'author', 'created_at']"
      ]
     },
     "execution_count": 33,
     "metadata": {},
     "output_type": "execute_result"
    }
   ],
   "source": [
    "# Read csv and store original data as a list of lists `original_data`\n",
    "file_object = open(original_csv, 'r', encoding='UTF8')\n",
    "reader_object = reader(file_object)\n",
    "original_data = list(reader_object)\n",
    "file_object.close()\n",
    "headers = original_data[0]\n",
    "hn = original_data[1:]\n",
    "headers\n"
   ]
  },
  {
   "cell_type": "code",
   "execution_count": 34,
   "metadata": {},
   "outputs": [
    {
     "name": "stdout",
     "output_type": "stream",
     "text": [
      "# of ask_posts = 9139\n",
      "# of show_posts = 10158\n",
      "# of other_posts = 273822\n"
     ]
    }
   ],
   "source": [
    "# Seperate the hn data into three lists\n",
    "ask_posts = []\n",
    "show_posts = []\n",
    "other_posts = []\n",
    "for row in hn:\n",
    "    title = row[1]\n",
    "    if title.lower().startswith('ask hn'):\n",
    "        ask_posts.append(row)\n",
    "    elif title.lower().startswith('show hn'):\n",
    "        show_posts.append(row)\n",
    "    else:\n",
    "        other_posts.append(row)\n",
    "print(f'# of ask_posts = {len(ask_posts)}')\n",
    "print(f'# of show_posts = {len(show_posts)}')\n",
    "print(f'# of other_posts = {len(other_posts)}')"
   ]
  },
  {
   "cell_type": "code",
   "execution_count": 37,
   "metadata": {},
   "outputs": [
    {
     "name": "stdout",
     "output_type": "stream",
     "text": [
      "avg_ask_comments = 10.39\n",
      "avg_show_comments = 5.43\n"
     ]
    }
   ],
   "source": [
    "# Determine number of comments on average per type of post\n",
    "total_ask_comments = 0\n",
    "for row in ask_posts:\n",
    "    num_comments = int(row[4])\n",
    "    total_ask_comments += num_comments\n",
    "avg_ask_comments = total_ask_comments / len(ask_posts)\n",
    "print(f'avg_ask_comments =', format(avg_ask_comments, '.2f'))\n",
    "\n",
    "total_show_comments = 0\n",
    "for row in show_posts:\n",
    "    num_comments = int(row[4])\n",
    "    total_show_comments += num_comments\n",
    "avg_show_comments = total_show_comments / len(ask_posts)\n",
    "print(f'avg_show_comments =', format(avg_show_comments, '.2f'))"
   ]
  },
  {
   "attachments": {},
   "cell_type": "markdown",
   "metadata": {},
   "source": [
    "### We've answered objective 1:\n",
    "\n",
    "1. ask_comments receive almost twice as many posts on average as show_comments as seen above.\n",
    "\n",
    "---\n"
   ]
  },
  {
   "cell_type": "code",
   "execution_count": 44,
   "metadata": {},
   "outputs": [
    {
     "name": "stdout",
     "output_type": "stream",
     "text": [
      "{'02': 269, '01': 282, '22': 383, '21': 518, '19': 552, '17': 587, '15': 646, '14': 513, '13': 444, '11': 312, '10': 282, '09': 222, '07': 226, '03': 271, '23': 343, '20': 510, '16': 579, '08': 257, '00': 301, '18': 614, '12': 342, '04': 243, '06': 234, '05': 209}\n",
      "{'02': 2996, '01': 2089, '22': 3372, '21': 4500, '19': 3954, '17': 5547, '15': 18525, '14': 4972, '13': 7245, '11': 2797, '10': 3013, '09': 1477, '07': 1585, '03': 2154, '23': 2297, '20': 4462, '16': 4466, '08': 2362, '00': 2277, '18': 4877, '12': 4234, '04': 2360, '06': 1587, '05': 1838}\n"
     ]
    }
   ],
   "source": [
    "result_list = []\n",
    "for post in ask_posts:\n",
    "    created_at = post[6]\n",
    "    num_comments = int(post[4])\n",
    "    result_list.append([created_at, num_comments])\n",
    "\n",
    "posts_by_hour = {}\n",
    "comments_by_hour = {}\n",
    "\n",
    "for row in result_list:\n",
    "    created_at = row[0]\n",
    "    num_comments = int(row[1])\n",
    "    time_object = dt.strptime(created_at, '%m/%d/%Y %H:%M')\n",
    "    hour_created = time_object.strftime('%H')\n",
    "    if hour_created not in posts_by_hour:\n",
    "        posts_by_hour[hour_created] = 1\n",
    "        comments_by_hour[hour_created] = num_comments\n",
    "    else:\n",
    "        posts_by_hour[hour_created] += 1\n",
    "        comments_by_hour[hour_created] += num_comments\n",
    "print(posts_by_hour)\n",
    "print(comments_by_hour)        "
   ]
  },
  {
   "cell_type": "code",
   "execution_count": 47,
   "metadata": {},
   "outputs": [
    {
     "name": "stdout",
     "output_type": "stream",
     "text": [
      "[[2, 11.137546468401487], [1, 7.407801418439717], [22, 8.804177545691905], [21, 8.687258687258687], [19, 7.163043478260869], [17, 9.449744463373083], [15, 28.676470588235293], [14, 9.692007797270955], [13, 16.31756756756757], [11, 8.96474358974359], [10, 10.684397163120567], [9, 6.653153153153153], [7, 7.013274336283186], [3, 7.948339483394834], [23, 6.696793002915452], [20, 8.749019607843136], [16, 7.713298791018998], [8, 9.190661478599221], [0, 7.5647840531561465], [18, 7.94299674267101], [12, 12.380116959064328], [4, 9.7119341563786], [6, 6.782051282051282], [5, 8.794258373205741]]\n"
     ]
    }
   ],
   "source": [
    "avg_by_hour = []\n",
    "for post in posts_by_hour:\n",
    "    avg = comments_by_hour[post] / posts_by_hour[post]\n",
    "    avg_by_hour.append([int(post), avg])\n",
    "print(avg_by_hour)"
   ]
  },
  {
   "cell_type": "code",
   "execution_count": 66,
   "metadata": {},
   "outputs": [
    {
     "name": "stdout",
     "output_type": "stream",
     "text": [
      "[[0, 7.5647840531561465], [1, 7.407801418439717], [2, 11.137546468401487], [3, 7.948339483394834], [4, 9.7119341563786], [5, 8.794258373205741], [6, 6.782051282051282], [7, 7.013274336283186], [8, 9.190661478599221], [9, 6.653153153153153], [10, 10.684397163120567], [11, 8.96474358974359], [12, 12.380116959064328], [13, 16.31756756756757], [14, 9.692007797270955], [15, 28.676470588235293], [16, 7.713298791018998], [17, 9.449744463373083], [18, 7.94299674267101], [19, 7.163043478260869], [20, 8.749019607843136], [21, 8.687258687258687], [22, 8.804177545691905], [23, 6.696793002915452]]\n"
     ]
    }
   ],
   "source": [
    "sorted_avg_by_hour = sorted(avg_by_hour)\n",
    "print(sorted_avg_by_hour)"
   ]
  },
  {
   "cell_type": "code",
   "execution_count": 49,
   "metadata": {},
   "outputs": [
    {
     "name": "stdout",
     "output_type": "stream",
     "text": [
      "[[11.137546468401487, 2], [7.407801418439717, 1], [8.804177545691905, 22], [8.687258687258687, 21], [7.163043478260869, 19], [9.449744463373083, 17], [28.676470588235293, 15], [9.692007797270955, 14], [16.31756756756757, 13], [8.96474358974359, 11], [10.684397163120567, 10], [6.653153153153153, 9], [7.013274336283186, 7], [7.948339483394834, 3], [6.696793002915452, 23], [8.749019607843136, 20], [7.713298791018998, 16], [9.190661478599221, 8], [7.5647840531561465, 0], [7.94299674267101, 18], [12.380116959064328, 12], [9.7119341563786, 4], [6.782051282051282, 6], [8.794258373205741, 5]]\n"
     ]
    }
   ],
   "source": [
    "# Swap the columns to easily sort out the top columns\n",
    "swap_avg_by_hour = []\n",
    "for row in avg_by_hour:\n",
    "    hour = row[0]\n",
    "    avg = row[1]\n",
    "    swap_avg_by_hour.append([avg, hour])\n",
    "print(swap_avg_by_hour)"
   ]
  },
  {
   "cell_type": "code",
   "execution_count": 67,
   "metadata": {},
   "outputs": [
    {
     "name": "stdout",
     "output_type": "stream",
     "text": [
      "[[28.676470588235293, 15], [16.31756756756757, 13], [12.380116959064328, 12], [11.137546468401487, 2], [10.684397163120567, 10], [9.7119341563786, 4], [9.692007797270955, 14], [9.449744463373083, 17], [9.190661478599221, 8], [8.96474358974359, 11], [8.804177545691905, 22], [8.794258373205741, 5], [8.749019607843136, 20], [8.687258687258687, 21], [7.948339483394834, 3], [7.94299674267101, 18], [7.713298791018998, 16], [7.5647840531561465, 0], [7.407801418439717, 1], [7.163043478260869, 19], [7.013274336283186, 7], [6.782051282051282, 6], [6.696793002915452, 23], [6.653153153153153, 9]]\n"
     ]
    }
   ],
   "source": [
    "sorted_swap = sorted(swap_avg_by_hour, reverse = True)\n",
    "print(sorted_swap)"
   ]
  },
  {
   "cell_type": "code",
   "execution_count": 65,
   "metadata": {},
   "outputs": [
    {
     "name": "stdout",
     "output_type": "stream",
     "text": [
      "Top 5 hours for Ask Posts Comments\n",
      "15:00: 28.68 average comments per post\n",
      "13:00: 16.32 average comments per post\n",
      "12:00: 12.38 average comments per post\n",
      "02:00: 11.14 average comments per post\n",
      "10:00: 10.68 average comments per post\n"
     ]
    }
   ],
   "source": [
    "print('Top 5 hours for Ask Posts Comments')\n",
    "for hour in sorted_swap[:5]:\n",
    "    avg_posts = hour[0]\n",
    "    hour_object = dt.strptime(str(hour[1]), '%H')\n",
    "    formatted_hour = hour_object.strftime('%H:%M')\n",
    "    print(f'{formatted_hour}:', format(avg_posts, '.2f'), 'average comments per post')\n",
    "\n",
    "    #print(f'{hour[1]}:00 {format(hour[0], '.2f')} average comments per post)"
   ]
  },
  {
   "attachments": {},
   "cell_type": "markdown",
   "metadata": {},
   "source": [
    "### We've answered objective 2:\n",
    "\n",
    "2. hours 15, 13, 12, 2, and 10 have the highest average number of comments per post.\n",
    "\n",
    "One could form an assumption that posting during these hours may give more comments per post if your goal is to receive the highest # of comments\n",
    "\n",
    "---"
   ]
  }
 ],
 "metadata": {
  "kernelspec": {
   "display_name": "Python 3.10.5 64-bit",
   "language": "python",
   "name": "python3"
  },
  "language_info": {
   "codemirror_mode": {
    "name": "ipython",
    "version": 3
   },
   "file_extension": ".py",
   "mimetype": "text/x-python",
   "name": "python",
   "nbconvert_exporter": "python",
   "pygments_lexer": "ipython3",
   "version": "3.10.5"
  },
  "orig_nbformat": 4,
  "vscode": {
   "interpreter": {
    "hash": "26de051ba29f2982a8de78e945f0abaf191376122a1563185a90213a26c5da77"
   }
  }
 },
 "nbformat": 4,
 "nbformat_minor": 2
}
